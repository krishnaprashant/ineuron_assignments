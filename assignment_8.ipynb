{
  "cells": [
    {
      "cell_type": "markdown",
      "metadata": {
        "id": "919ff06c"
      },
      "source": [
        "__Q1. In Python, what is the difference between a built-in function and a user-defined function? Provide an\n",
        "example of each.__\n",
        "\n",
        "A. Built-in function is a function that is provided by the compiler to perform basic operations.\n",
        "\n",
        "```\n",
        "Example:\n",
        "1. str() -> converts and returns the data that is passed as a argument to string data type\n",
        "2. len() -> returns the number of element in the list, string, tuple, dict\n",
        "```"
      ],
      "id": "919ff06c"
    },
    {
      "cell_type": "code",
      "execution_count": 31,
      "metadata": {
        "colab": {
          "base_uri": "https://localhost:8080/"
        },
        "id": "7924107a",
        "outputId": "09f464a9-0346-4ed1-8806-27993b3a3183"
      },
      "outputs": [
        {
          "output_type": "stream",
          "name": "stdout",
          "text": [
            "99 is an odd number\n",
            "4\n",
            "4\n",
            "3\n",
            "2\n"
          ]
        }
      ],
      "source": [
        "number = 99\n",
        "# we can use + to concatinate string after converting to string, as we can only concatinate two strings together.\n",
        "print(str(number)+\" is an odd number\")\n",
        "# get the number of element in list, string, set, tuple\n",
        "print(len([1,2,3,4]), len(\"name\"), len({1,2,3}), len({'a':1, 'b': 2}), sep=\"\\n\")"
      ],
      "id": "7924107a"
    },
    {
      "cell_type": "markdown",
      "metadata": {
        "id": "d071a840"
      },
      "source": [
        "A function created by a user for some purpose that is encapsulated with code and returns the desired output is called User-definded function\n",
        "\n",
        "__Syntax__\n",
        "\n",
        "```\n",
        "def func(params):\n",
        "    code\n",
        "```"
      ],
      "id": "d071a840"
    },
    {
      "cell_type": "code",
      "execution_count": 32,
      "metadata": {
        "colab": {
          "base_uri": "https://localhost:8080/"
        },
        "id": "4db8bac5",
        "outputId": "f41630cc-ce2c-48a5-f8c7-0182c06725a0"
      },
      "outputs": [
        {
          "output_type": "stream",
          "name": "stdout",
          "text": [
            "9\n"
          ]
        }
      ],
      "source": [
        "def add(a,b):\n",
        "    return a+b\n",
        "\n",
        "print(add(4,5))"
      ],
      "id": "4db8bac5"
    },
    {
      "cell_type": "markdown",
      "metadata": {
        "id": "71c975c6"
      },
      "source": [
        "__Q2. How can you pass arguments to a function in Python? Explain the difference between positional\n",
        "arguments and keyword arguments.__\n",
        "\n",
        "A. Arguments which are called positional arguments can be passed to function according the seqeunce that is used in the function.\n",
        "\n",
        "__Example :__"
      ],
      "id": "71c975c6"
    },
    {
      "cell_type": "code",
      "execution_count": 33,
      "metadata": {
        "colab": {
          "base_uri": "https://localhost:8080/",
          "height": 35
        },
        "id": "b3908b82",
        "outputId": "63a67922-dd3a-4310-8623-08c05f310c99"
      },
      "outputs": [
        {
          "output_type": "execute_result",
          "data": {
            "text/plain": [
              "'John Doe'"
            ],
            "application/vnd.google.colaboratory.intrinsic+json": {
              "type": "string"
            }
          },
          "metadata": {},
          "execution_count": 33
        }
      ],
      "source": [
        "def full_name(first_name,last_name):\n",
        "    return f\"{first_name} {last_name}\"\n",
        "full_name(\"John\",\"Doe\")"
      ],
      "id": "b3908b82"
    },
    {
      "cell_type": "markdown",
      "metadata": {
        "id": "815af84f"
      },
      "source": [
        "We can use also pass more arguments when the arguments count is not fixed by using *\n",
        "\n",
        "__Example :__"
      ],
      "id": "815af84f"
    },
    {
      "cell_type": "code",
      "execution_count": 34,
      "metadata": {
        "id": "e2e02e28"
      },
      "outputs": [],
      "source": [
        "def names(*args):\n",
        "    print(\" \".join(args))"
      ],
      "id": "e2e02e28"
    },
    {
      "cell_type": "code",
      "execution_count": 35,
      "metadata": {
        "colab": {
          "base_uri": "https://localhost:8080/"
        },
        "id": "c48da59e",
        "outputId": "17dcc242-3871-4ebd-dc1c-be8a16fc07f6",
        "scrolled": true
      },
      "outputs": [
        {
          "output_type": "stream",
          "name": "stdout",
          "text": [
            "first_name second_name last_name\n"
          ]
        }
      ],
      "source": [
        "# i can pass three args\n",
        "names(\"first_name\",\"second_name\",\"last_name\")"
      ],
      "id": "c48da59e"
    },
    {
      "cell_type": "code",
      "execution_count": 36,
      "metadata": {
        "colab": {
          "base_uri": "https://localhost:8080/"
        },
        "id": "0be1688b",
        "outputId": "a281f5d3-6b1c-4fe4-b416-23b227505b78"
      },
      "outputs": [
        {
          "output_type": "stream",
          "name": "stdout",
          "text": [
            "first_name last_name\n"
          ]
        }
      ],
      "source": [
        "# i can also pass only two args\n",
        "names(\"first_name\",\"last_name\")"
      ],
      "id": "0be1688b"
    },
    {
      "cell_type": "markdown",
      "metadata": {
        "id": "9dfc1542"
      },
      "source": [
        "We can use also keyword based arguments where if keyword is given then it is considered."
      ],
      "id": "9dfc1542"
    },
    {
      "cell_type": "code",
      "execution_count": 37,
      "metadata": {
        "id": "3feecfe3"
      },
      "outputs": [],
      "source": [
        "def names(**kwargs):\n",
        "    if \"first_name\" in kwargs:\n",
        "        print(f\"First Name={kwargs['first_name']}\")\n",
        "    if \"second_name\" in kwargs:\n",
        "        print(f\"Second Name={kwargs['second_name']}\")\n",
        "    if \"last_name\" in kwargs:\n",
        "        print(f\"Last Name={kwargs['last_name']}\")"
      ],
      "id": "3feecfe3"
    },
    {
      "cell_type": "code",
      "execution_count": 38,
      "metadata": {
        "colab": {
          "base_uri": "https://localhost:8080/"
        },
        "id": "1225fccd",
        "outputId": "f3703242-de43-42c1-8557-48e1eca6ba58"
      },
      "outputs": [
        {
          "output_type": "stream",
          "name": "stdout",
          "text": [
            "First Name=John\n"
          ]
        }
      ],
      "source": [
        "names(first_name=\"John\")"
      ],
      "id": "1225fccd"
    },
    {
      "cell_type": "code",
      "execution_count": 39,
      "metadata": {
        "colab": {
          "base_uri": "https://localhost:8080/"
        },
        "id": "f40e2c92",
        "outputId": "12429ae6-9573-4361-d5c4-bb8951d2ed70"
      },
      "outputs": [
        {
          "output_type": "stream",
          "name": "stdout",
          "text": [
            "First Name=John\n",
            "Last Name=Doe\n"
          ]
        }
      ],
      "source": [
        "names(first_name=\"John\",last_name=\"Doe\")"
      ],
      "id": "f40e2c92"
    },
    {
      "cell_type": "markdown",
      "metadata": {
        "id": "dcb3b84b"
      },
      "source": [
        "__Q3. What is the purpose of the return statement in a function? Can a function have multiple return\n",
        "statements? Explain with an example.__\n",
        "\n",
        "A. The purpose of return statement is to produce result for that function. the encapsulated logic will be producing the result and that result has to be decalred using return keyword. so whenever the function runs to produce the result by running the logic then result is assigned to a variable with return keyword before. if not return statement is directly used before the logic. Now the code exits from the function after the return statement is executed. The result that function as provided is assigned to the caller of the function\n",
        "\n",
        "__Example:__"
      ],
      "id": "dcb3b84b"
    },
    {
      "cell_type": "code",
      "execution_count": 40,
      "metadata": {
        "colab": {
          "base_uri": "https://localhost:8080/",
          "height": 35
        },
        "id": "2534ed1b",
        "outputId": "be181c2d-930e-4dd3-b255-6bdfb5c822c0"
      },
      "outputs": [
        {
          "output_type": "execute_result",
          "data": {
            "text/plain": [
              "'John Doe'"
            ],
            "application/vnd.google.colaboratory.intrinsic+json": {
              "type": "string"
            }
          },
          "metadata": {},
          "execution_count": 40
        }
      ],
      "source": [
        "# example with variable assigned before the return keyword.\n",
        "def my_name():\n",
        "    fn = \"John\"\n",
        "    ln = \"Doe\"\n",
        "    return fn + \" \" + ln\n",
        "\n",
        "# example with single return statement\n",
        "def full_name(first_name,last_name):\n",
        "    return f\"{first_name} {last_name}\"\n",
        "\n",
        "full_name(\"John\",\"Doe\")"
      ],
      "id": "2534ed1b"
    },
    {
      "cell_type": "code",
      "execution_count": 41,
      "metadata": {
        "colab": {
          "base_uri": "https://localhost:8080/",
          "height": 35
        },
        "id": "589a1183",
        "outputId": "2f5a39dd-8d8e-481d-f546-f7200b952cb8"
      },
      "outputs": [
        {
          "output_type": "execute_result",
          "data": {
            "text/plain": [
              "'First Name=John'"
            ],
            "application/vnd.google.colaboratory.intrinsic+json": {
              "type": "string"
            }
          },
          "metadata": {},
          "execution_count": 41
        }
      ],
      "source": [
        "# example to with mutiple conditions\n",
        "def names(**kwargs):\n",
        "    if \"first_name\" in kwargs:\n",
        "        return f\"First Name={kwargs['first_name']}\"\n",
        "    elif \"second_name\" in kwargs:\n",
        "        return f\"Second Name={kwargs['second_name']}\"\n",
        "    elif \"last_name\" in kwargs:\n",
        "        return f\"Last Name={kwargs['last_name']}\"\n",
        "    else:\n",
        "        return \"No valid name was provied\"\n",
        "\n",
        "names(first_name=\"John\",last_name=\"Doe\")"
      ],
      "id": "589a1183"
    },
    {
      "cell_type": "markdown",
      "metadata": {
        "id": "4c26b042"
      },
      "source": [
        "__Q4. What are lambda functions in Python? How are they different from regular functions? Provide an\n",
        "example where a lambda function can be useful.__\n",
        "\n",
        "A. A lambda function is a single line function also called as anonymous function due to the fact that they dont have name like generally functions do. whenever there need a function to be passed or used in a code and if the logic is very small and one liner then instead of writing the function and passing the name of the function, The function itself is passed with the logic using keyword called lambda\n",
        "\n",
        "__syntax:__\n",
        "```\n",
        "lambda <variable>: logic(<variable>)\n",
        "\n",
        "```\n",
        "\n",
        "__Example:__"
      ],
      "id": "4c26b042"
    },
    {
      "cell_type": "code",
      "execution_count": 42,
      "metadata": {
        "colab": {
          "base_uri": "https://localhost:8080/"
        },
        "id": "fa39c209",
        "outputId": "6975e7e5-bb6a-4faf-f002-bfee6acc15d7"
      },
      "outputs": [
        {
          "output_type": "stream",
          "name": "stdout",
          "text": [
            "JOHN DOE\n"
          ]
        }
      ],
      "source": [
        "name=\"john doe\"\n",
        "print(\"\".join(map(lambda a: a.upper(),name)))"
      ],
      "id": "fa39c209"
    },
    {
      "cell_type": "markdown",
      "metadata": {
        "id": "9c3a41e1"
      },
      "source": [
        "Generally lambda functions are more usefull in higher order functions.\n",
        "\n",
        "__Example:__"
      ],
      "id": "9c3a41e1"
    },
    {
      "cell_type": "code",
      "execution_count": 43,
      "metadata": {
        "colab": {
          "base_uri": "https://localhost:8080/"
        },
        "id": "9572cbcc",
        "outputId": "bdd91bd3-9d75-4c39-fabb-ba1f0bb3886b"
      },
      "outputs": [
        {
          "output_type": "execute_result",
          "data": {
            "text/plain": [
              "[0, 1, 2, 3, 4, 5, 6, 7, 8, 9]"
            ]
          },
          "metadata": {},
          "execution_count": 43
        }
      ],
      "source": [
        "nums = list(range(10))\n",
        "nums"
      ],
      "id": "9572cbcc"
    },
    {
      "cell_type": "code",
      "execution_count": 44,
      "metadata": {
        "colab": {
          "base_uri": "https://localhost:8080/"
        },
        "id": "d8e0af8c",
        "outputId": "a3a6a09c-8521-4b59-8bf2-9aa189973ff3"
      },
      "outputs": [
        {
          "output_type": "execute_result",
          "data": {
            "text/plain": [
              "[0, 1, 4, 9, 16, 25, 36, 49, 64, 81]"
            ]
          },
          "metadata": {},
          "execution_count": 44
        }
      ],
      "source": [
        "# print the score of each number\n",
        "list(map(lambda a: a*a,nums))"
      ],
      "id": "d8e0af8c"
    },
    {
      "cell_type": "code",
      "execution_count": 45,
      "metadata": {
        "colab": {
          "base_uri": "https://localhost:8080/"
        },
        "id": "33850c27",
        "outputId": "0547d788-74ab-4c6d-bdad-658eebacfcc4"
      },
      "outputs": [
        {
          "output_type": "execute_result",
          "data": {
            "text/plain": [
              "[0, 2, 4, 6, 8]"
            ]
          },
          "metadata": {},
          "execution_count": 45
        }
      ],
      "source": [
        "# print the numbers that are only even\n",
        "list(filter(lambda a: a%2 == 0, nums))"
      ],
      "id": "33850c27"
    },
    {
      "cell_type": "code",
      "execution_count": 46,
      "metadata": {
        "colab": {
          "base_uri": "https://localhost:8080/"
        },
        "id": "b112a6a8",
        "outputId": "700f99fe-3728-4b10-8cea-1e76f8fd16a1"
      },
      "outputs": [
        {
          "output_type": "execute_result",
          "data": {
            "text/plain": [
              "45"
            ]
          },
          "metadata": {},
          "execution_count": 46
        }
      ],
      "source": [
        "# import reduce\n",
        "from functools import reduce\n",
        "# print the sum of numbers in the list\n",
        "reduce(lambda x,y: x+y,nums)"
      ],
      "id": "b112a6a8"
    },
    {
      "cell_type": "markdown",
      "metadata": {
        "id": "df79591c"
      },
      "source": [
        "__Q5. How does the concept of \"scope\" apply to functions in Python? Explain the difference between local\n",
        "scope and global scope.__\n",
        "\n",
        "there are two scopes. local and global. when the variable is declared out side the function and is accessible in all the function it is called global variable. and the variable which is declared in a scope like class, function, etc it is called local variable. we can also make the local variable as global by using keyword GLOBAL\n",
        "\n",
        "```\n",
        "def my_function():\n",
        "    local_var = 10\n",
        "    print(local_var)\n",
        "\n",
        "my_function()  \n",
        "\n",
        "#below line will produce error with the output as local variable is inside the my_function scope\n",
        "print(local_var)\n",
        "```"
      ],
      "id": "df79591c"
    },
    {
      "cell_type": "markdown",
      "metadata": {
        "id": "c9ec2f4c"
      },
      "source": [
        "__Global Scope:__"
      ],
      "id": "c9ec2f4c"
    },
    {
      "cell_type": "code",
      "execution_count": 47,
      "metadata": {
        "colab": {
          "base_uri": "https://localhost:8080/"
        },
        "id": "fdcb6c18",
        "outputId": "3fa012bb-6c33-4528-ce9a-99ed0a8bd30c"
      },
      "outputs": [
        {
          "output_type": "stream",
          "name": "stdout",
          "text": [
            "20\n"
          ]
        }
      ],
      "source": [
        "global_var = 20\n",
        "\n",
        "def my_function():\n",
        "    # as the global_var is outside my_function we are able to access the global variable\n",
        "    print(global_var)\n",
        "\n",
        "my_function()"
      ],
      "id": "fdcb6c18"
    },
    {
      "cell_type": "markdown",
      "metadata": {
        "id": "62e28d09"
      },
      "source": [
        "__Global Keyword:__"
      ],
      "id": "62e28d09"
    },
    {
      "cell_type": "code",
      "execution_count": 48,
      "metadata": {
        "colab": {
          "base_uri": "https://localhost:8080/"
        },
        "id": "4edcca73",
        "outputId": "748649bd-157d-4fc9-a6a2-562414e8aa0d"
      },
      "outputs": [
        {
          "output_type": "stream",
          "name": "stdout",
          "text": [
            "20\n",
            "20\n"
          ]
        }
      ],
      "source": [
        "global_var = 20\n",
        "\n",
        "def my_function():\n",
        "    print(global_var)  #global_var within the function\n",
        "\n",
        "my_function()\n",
        "print(global_var)  # global_var outside the function"
      ],
      "id": "4edcca73"
    },
    {
      "cell_type": "markdown",
      "metadata": {
        "id": "ea96b6c0"
      },
      "source": [
        "__Q6. How can you use the \"return\" statement in a Python function to return multiple values?__\n",
        "\n",
        "A. We can return multiple values using return with the help of result seperated by comma, result stored in list, Object, dict, tuple, set etc. So the user can use destructuring, indexing, slicing etc to retrieve the variable"
      ],
      "id": "ea96b6c0"
    },
    {
      "cell_type": "code",
      "execution_count": 49,
      "metadata": {
        "colab": {
          "base_uri": "https://localhost:8080/"
        },
        "id": "00b69365",
        "outputId": "709cefff-7ae1-4a44-d3f9-31c6ffeeabe6"
      },
      "outputs": [
        {
          "output_type": "execute_result",
          "data": {
            "text/plain": [
              "('John', 'Doe')"
            ]
          },
          "metadata": {},
          "execution_count": 49
        }
      ],
      "source": [
        "# function to return multiple results seperated by comma.\n",
        "\n",
        "def names():\n",
        "    return \"John\", \"Doe\"\n",
        "\n",
        "# destructuing\n",
        "first_name,last_name = names()\n",
        "# print the first name and last name\n",
        "first_name,last_name"
      ],
      "id": "00b69365"
    },
    {
      "cell_type": "code",
      "execution_count": 50,
      "metadata": {
        "colab": {
          "base_uri": "https://localhost:8080/"
        },
        "id": "dd5fc761",
        "outputId": "e57b6305-310e-41e3-f8b4-ea61e3aa0047"
      },
      "outputs": [
        {
          "output_type": "execute_result",
          "data": {
            "text/plain": [
              "('John', 'Doe')"
            ]
          },
          "metadata": {},
          "execution_count": 50
        }
      ],
      "source": [
        "# function to return multiple results using list\n",
        "\n",
        "def names():\n",
        "    return [\"John\", \"Doe\"]\n",
        "\n",
        "# store the list into names variable\n",
        "names = names()\n",
        "# access the first name and last name using indexing\n",
        "first_name = names[0]\n",
        "last_name = names[1]\n",
        "# print the first name and last name\n",
        "first_name,last_name"
      ],
      "id": "dd5fc761"
    },
    {
      "cell_type": "code",
      "execution_count": 51,
      "metadata": {
        "colab": {
          "base_uri": "https://localhost:8080/"
        },
        "id": "5a9e31a5",
        "outputId": "0d8b097b-a608-4481-972d-7022c0c7c606"
      },
      "outputs": [
        {
          "output_type": "execute_result",
          "data": {
            "text/plain": [
              "('John', 'Doe')"
            ]
          },
          "metadata": {},
          "execution_count": 51
        }
      ],
      "source": [
        "# function to return multiple results using dict\n",
        "\n",
        "def names():\n",
        "    return {\"first_name\":\"John\", \"last_name\":\"Doe\"}\n",
        "\n",
        "# store into names variable\n",
        "names = names()\n",
        "# access the first name and last name using indexing\n",
        "first_name = names[\"first_name\"]\n",
        "last_name = names[\"last_name\"]\n",
        "# print the first name and last name\n",
        "first_name,last_name"
      ],
      "id": "5a9e31a5"
    },
    {
      "cell_type": "code",
      "execution_count": 52,
      "metadata": {
        "colab": {
          "base_uri": "https://localhost:8080/"
        },
        "id": "48b94f25",
        "outputId": "31f4abb6-2de7-44f1-f2c7-7758a555f94c"
      },
      "outputs": [
        {
          "output_type": "execute_result",
          "data": {
            "text/plain": [
              "('John', 'Doe')"
            ]
          },
          "metadata": {},
          "execution_count": 52
        }
      ],
      "source": [
        "# function to return multiple results using set\n",
        "\n",
        "def names():\n",
        "    return {\"John\", \"Doe\"}\n",
        "\n",
        "# store the list into names variable\n",
        "names = list(names())\n",
        "# access the first name and last name using indexing\n",
        "first_name = names[0]\n",
        "last_name = names[1]\n",
        "# print the first name and last name\n",
        "first_name,last_name"
      ],
      "id": "48b94f25"
    },
    {
      "cell_type": "code",
      "execution_count": 53,
      "metadata": {
        "colab": {
          "base_uri": "https://localhost:8080/"
        },
        "id": "3856f3de",
        "outputId": "a9f65df1-2093-403f-fef3-13be4d37e5c8"
      },
      "outputs": [
        {
          "output_type": "execute_result",
          "data": {
            "text/plain": [
              "('John', 'Doe')"
            ]
          },
          "metadata": {},
          "execution_count": 53
        }
      ],
      "source": [
        "# function to return multiple results using tuple\n",
        "\n",
        "def names():\n",
        "    return (\"John\", \"Doe\")\n",
        "\n",
        "# store the list into names variable\n",
        "names = names()\n",
        "# access the first name and last name using indexing\n",
        "first_name = names[0]\n",
        "last_name = names[1]\n",
        "# print the first name and last name\n",
        "first_name,last_name"
      ],
      "id": "3856f3de"
    },
    {
      "cell_type": "code",
      "execution_count": 54,
      "metadata": {
        "colab": {
          "base_uri": "https://localhost:8080/"
        },
        "id": "176d0b2e",
        "outputId": "efe4fbe7-ff78-454e-ce7c-33def75e96ce"
      },
      "outputs": [
        {
          "output_type": "execute_result",
          "data": {
            "text/plain": [
              "('John', 'Doe')"
            ]
          },
          "metadata": {},
          "execution_count": 54
        }
      ],
      "source": [
        "# function to return multiple results using object\n",
        "\n",
        "class Info:\n",
        "    first_name\n",
        "    last_name\n",
        "\n",
        "def names():\n",
        "    i = Info()\n",
        "    i.first_name = \"John\"\n",
        "    i.last_name =  \"Doe\"\n",
        "    return i\n",
        "\n",
        "# store into names variable\n",
        "names = names()\n",
        "\n",
        "# access the first name and last name using dot operator\n",
        "first_name = names.first_name\n",
        "last_name = names.last_name\n",
        "\n",
        "# # print the first name and last name\n",
        "first_name,last_name"
      ],
      "id": "176d0b2e"
    },
    {
      "cell_type": "markdown",
      "metadata": {
        "id": "75cd2538"
      },
      "source": [
        "__Q7. What is the difference between the \"pass by value\" and \"pass by reference\" concepts when it\n",
        "comes to function arguments in Python?__"
      ],
      "id": "75cd2538"
    },
    {
      "cell_type": "markdown",
      "metadata": {
        "id": "8a33f548"
      },
      "source": [
        "In Python, when you pass a variable to a function, you're passing a reference to that variable's memory location. This means:\n",
        "\n",
        "If the variable is mutable (like a list), changes made to it inside the function will affect the original variable outside the function. It's like sharing the same toy; if one person changes it, everyone sees the change.\n",
        "\n",
        "__Example:__"
      ],
      "id": "8a33f548"
    },
    {
      "cell_type": "code",
      "execution_count": 55,
      "metadata": {
        "id": "16ab4c5c"
      },
      "outputs": [],
      "source": [
        "def modify_list(my_list):\n",
        "    my_list.append(4)  # Original list is changed too."
      ],
      "id": "16ab4c5c"
    },
    {
      "cell_type": "markdown",
      "metadata": {
        "id": "4d7e5b6f"
      },
      "source": [
        "If the variable is immutable (like a number or string), you can't change it directly inside the function. It's like having a new toy; changes inside the function won't affect the original.\n",
        "\n",
        "__Example:__"
      ],
      "id": "4d7e5b6f"
    },
    {
      "cell_type": "code",
      "execution_count": 56,
      "metadata": {
        "id": "b10f0d72"
      },
      "outputs": [],
      "source": [
        "def modify_immutable(my_string):\n",
        "    my_string = \"new value\"  # Doesn't change the original string."
      ],
      "id": "b10f0d72"
    },
    {
      "cell_type": "markdown",
      "metadata": {
        "id": "e5698f17"
      },
      "source": [
        "So, Python is \"pass by object reference.\" Mutable objects can be modified in-place, affecting the original, while immutable objects can't be changed directly inside the function."
      ],
      "id": "e5698f17"
    },
    {
      "cell_type": "markdown",
      "metadata": {
        "id": "a08a6773"
      },
      "source": [
        "__Q8 .Create a function that can intake integer or decimal value and do following operations:\n",
        "a. Logarithmic function (log x)\n",
        "b. Exponential function (exp(x))\n",
        "c. Power function with base 2 (2 x )\n",
        "d. Square root__"
      ],
      "id": "a08a6773"
    },
    {
      "cell_type": "code",
      "execution_count": 57,
      "metadata": {
        "colab": {
          "base_uri": "https://localhost:8080/"
        },
        "id": "5d129d3e",
        "outputId": "27282072-eea8-4c75-9df1-80b180c07a4a"
      },
      "outputs": [
        {
          "output_type": "stream",
          "name": "stdout",
          "text": [
            "Logarithm: 0.6931471805599453\n",
            "Exponential: 7.38905609893065\n",
            "Power (base 2): 4.0\n",
            "Square Root: 1.4142135623730951\n"
          ]
        }
      ],
      "source": [
        "import math\n",
        "\n",
        "def math_operations(x):\n",
        "    try:\n",
        "        x = float(x)  # Ensure x is treated as a float, even if it's an integer.\n",
        "        if x <= 0:\n",
        "            return \"Input must be a positive number.\"\n",
        "\n",
        "        log_x = math.log(x)\n",
        "        exp_x = math.exp(x)\n",
        "        power_x = 2 ** x\n",
        "        sqrt_x = math.sqrt(x)\n",
        "\n",
        "        return f\"Logarithm: {log_x}\\nExponential: {exp_x}\\nPower (base 2): {power_x}\\nSquare Root: {sqrt_x}\"\n",
        "    except ValueError:\n",
        "        return \"Invalid input. Please provide a numeric value.\"\n",
        "\n",
        "# Test the function\n",
        "value = 2 #input(\"Enter a positive integer or decimal: \")\n",
        "result = math_operations(value)\n",
        "print(result)"
      ],
      "id": "5d129d3e"
    },
    {
      "cell_type": "markdown",
      "metadata": {
        "id": "eb08eae0"
      },
      "source": [
        "__9. Create a function that takes a full name as an argument and returns first name and last name.__"
      ],
      "id": "eb08eae0"
    },
    {
      "cell_type": "code",
      "execution_count": 58,
      "metadata": {
        "colab": {
          "base_uri": "https://localhost:8080/"
        },
        "id": "ad0e2b25",
        "outputId": "18644c19-5758-452d-e7fb-50d92738b663"
      },
      "outputs": [
        {
          "output_type": "stream",
          "name": "stdout",
          "text": [
            "First name: John\n",
            "Last name: Doe\n"
          ]
        }
      ],
      "source": [
        "# example that return frist_name and last name\n",
        "def full_name(name):\n",
        "    parts = name.split(\" \")\n",
        "    if len(parts) >= 2:\n",
        "        first_name = parts[0]\n",
        "        last_name = parts[-1]\n",
        "        return first_name, last_name\n",
        "    else:\n",
        "        return None, None\n",
        "\n",
        "\n",
        "first_name, last_name = full_name(\"John Doe\")\n",
        "if first_name and last_name:\n",
        "    print(f\"First name: {first_name}\")\n",
        "    print(f\"Last name: {last_name}\")\n",
        "else:\n",
        "    print(\"Invalid name format.\")"
      ],
      "id": "ad0e2b25"
    }
  ],
  "metadata": {
    "colab": {
      "provenance": []
    },
    "kernelspec": {
      "display_name": "Python 3 (ipykernel)",
      "language": "python",
      "name": "python3"
    },
    "language_info": {
      "codemirror_mode": {
        "name": "ipython",
        "version": 3
      },
      "file_extension": ".py",
      "mimetype": "text/x-python",
      "name": "python",
      "nbconvert_exporter": "python",
      "pygments_lexer": "ipython3",
      "version": "3.11.4"
    }
  },
  "nbformat": 4,
  "nbformat_minor": 5
}