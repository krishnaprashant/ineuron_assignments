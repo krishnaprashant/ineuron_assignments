{
 "cells": [
  {
   "cell_type": "markdown",
   "id": "919ff06c",
   "metadata": {},
   "source": [
    "__Q1. In Python, what is the difference between a built-in function and a user-defined function? Provide an\n",
    "example of each.__\n",
    "\n",
    "A. Built-in function is a function that is provided by the compiler to perform basic operations.\n",
    "\n",
    "``` \n",
    "Example: \n",
    "1. str() -> converts and returns the data that is passed as a argument to string data type\n",
    "2. len() -> returns the number of element in the list, string, tuple, dict\n",
    "```"
   ]
  },
  {
   "cell_type": "code",
   "execution_count": 1,
   "id": "7924107a",
   "metadata": {},
   "outputs": [
    {
     "name": "stdout",
     "output_type": "stream",
     "text": [
      "99 is an odd number\n",
      "4\n",
      "4\n",
      "3\n",
      "2\n"
     ]
    }
   ],
   "source": [
    "number = 99\n",
    "# we can use + to concatinate string after converting to string, as we can only concatinate two strings together.\n",
    "print(str(number)+\" is an odd number\")\n",
    "# get the number of element in list, string, set, tuple\n",
    "print(len([1,2,3,4]), len(\"name\"), len({1,2,3}), len({'a':1, 'b': 2}), sep=\"\\n\")"
   ]
  },
  {
   "cell_type": "markdown",
   "id": "d071a840",
   "metadata": {},
   "source": [
    "A function created by a user for some purpose that is encapsulated with code and returns the desired output is called User-definded function\n",
    "\n",
    "__Syntax__\n",
    "\n",
    "```\n",
    "def func(params):\n",
    "    code\n",
    "```"
   ]
  },
  {
   "cell_type": "code",
   "execution_count": 2,
   "id": "4db8bac5",
   "metadata": {},
   "outputs": [
    {
     "name": "stdout",
     "output_type": "stream",
     "text": [
      "9\n"
     ]
    }
   ],
   "source": [
    "def add(a,b):\n",
    "    return a+b\n",
    "\n",
    "print(add(4,5))"
   ]
  },
  {
   "cell_type": "markdown",
   "id": "71c975c6",
   "metadata": {},
   "source": [
    "__Q2. How can you pass arguments to a function in Python? Explain the difference between positional\n",
    "arguments and keyword arguments.__\n",
    "\n",
    "A. Arguments which are called positional arguments can be passed to function according the seqeunce that is used in the function.\n",
    "\n",
    "__Example :__"
   ]
  },
  {
   "cell_type": "code",
   "execution_count": 3,
   "id": "b3908b82",
   "metadata": {},
   "outputs": [
    {
     "data": {
      "text/plain": [
       "'John Doe'"
      ]
     },
     "execution_count": 3,
     "metadata": {},
     "output_type": "execute_result"
    }
   ],
   "source": [
    "def full_name(first_name,last_name):\n",
    "    return f\"{first_name} {last_name}\"\n",
    "full_name(\"John\",\"Doe\")"
   ]
  },
  {
   "cell_type": "markdown",
   "id": "815af84f",
   "metadata": {},
   "source": [
    "We can use also pass more arguments when the arguments count is not fixed by using *\n",
    "\n",
    "__Example :__"
   ]
  },
  {
   "cell_type": "code",
   "execution_count": 4,
   "id": "e2e02e28",
   "metadata": {},
   "outputs": [],
   "source": [
    "def names(*args):\n",
    "    print(\" \".join(args))"
   ]
  },
  {
   "cell_type": "code",
   "execution_count": 5,
   "id": "c48da59e",
   "metadata": {
    "scrolled": true
   },
   "outputs": [
    {
     "name": "stdout",
     "output_type": "stream",
     "text": [
      "first_name second_name last_name\n"
     ]
    }
   ],
   "source": [
    "# i can pass three args\n",
    "names(\"first_name\",\"second_name\",\"last_name\")"
   ]
  },
  {
   "cell_type": "code",
   "execution_count": 6,
   "id": "0be1688b",
   "metadata": {},
   "outputs": [
    {
     "name": "stdout",
     "output_type": "stream",
     "text": [
      "first_name last_name\n"
     ]
    }
   ],
   "source": [
    "# i can also pass only two args\n",
    "names(\"first_name\",\"last_name\")"
   ]
  },
  {
   "cell_type": "markdown",
   "id": "9dfc1542",
   "metadata": {},
   "source": [
    "We can use also keyword based arguments where if keyword is given then it is considered."
   ]
  },
  {
   "cell_type": "code",
   "execution_count": 7,
   "id": "3feecfe3",
   "metadata": {},
   "outputs": [],
   "source": [
    "def names(**kwargs):\n",
    "    if \"first_name\" in kwargs:\n",
    "        print(f\"First Name={kwargs['first_name']}\")\n",
    "    if \"second_name\" in kwargs:\n",
    "        print(f\"Second Name={kwargs['second_name']}\")\n",
    "    if \"last_name\" in kwargs:\n",
    "        print(f\"Last Name={kwargs['last_name']}\")"
   ]
  },
  {
   "cell_type": "code",
   "execution_count": 8,
   "id": "1225fccd",
   "metadata": {},
   "outputs": [
    {
     "name": "stdout",
     "output_type": "stream",
     "text": [
      "First Name=John\n"
     ]
    }
   ],
   "source": [
    "names(first_name=\"John\")"
   ]
  },
  {
   "cell_type": "code",
   "execution_count": 9,
   "id": "f40e2c92",
   "metadata": {},
   "outputs": [
    {
     "name": "stdout",
     "output_type": "stream",
     "text": [
      "First Name=John\n",
      "Last Name=Doe\n"
     ]
    }
   ],
   "source": [
    "names(first_name=\"John\",last_name=\"Doe\")"
   ]
  },
  {
   "cell_type": "markdown",
   "id": "dcb3b84b",
   "metadata": {},
   "source": [
    "__Q3. What is the purpose of the return statement in a function? Can a function have multiple return\n",
    "statements? Explain with an example.__\n",
    "\n",
    "A. The purpose of return statement is to produce result for that function. the encapsulated logic will be producing the result and that result has to be decalred using return keyword. so whenever the function runs to produce the result by running the logic then result is assigned to a variable with return keyword before. if not return statement is directly used before the logic. Now the code exits from the function after the return statement is executed. The result that function as provided is assigned to the caller of the function\n",
    "\n",
    "__Example:__"
   ]
  },
  {
   "cell_type": "code",
   "execution_count": 10,
   "id": "2534ed1b",
   "metadata": {},
   "outputs": [
    {
     "data": {
      "text/plain": [
       "'John Doe'"
      ]
     },
     "execution_count": 10,
     "metadata": {},
     "output_type": "execute_result"
    }
   ],
   "source": [
    "# example with variable assigned before the return keyword.\n",
    "def my_name():\n",
    "    fn = \"John\"\n",
    "    ln = \"Doe\"\n",
    "    return fn + \" \" + ln\n",
    "\n",
    "# example with single return statement\n",
    "def full_name(first_name,last_name):\n",
    "    return f\"{first_name} {last_name}\"\n",
    "\n",
    "full_name(\"John\",\"Doe\")"
   ]
  },
  {
   "cell_type": "code",
   "execution_count": 11,
   "id": "589a1183",
   "metadata": {},
   "outputs": [
    {
     "data": {
      "text/plain": [
       "'First Name=John'"
      ]
     },
     "execution_count": 11,
     "metadata": {},
     "output_type": "execute_result"
    }
   ],
   "source": [
    "# example to with mutiple conditions\n",
    "def names(**kwargs):\n",
    "    if \"first_name\" in kwargs:\n",
    "        return f\"First Name={kwargs['first_name']}\"\n",
    "    elif \"second_name\" in kwargs:\n",
    "        return f\"Second Name={kwargs['second_name']}\"\n",
    "    elif \"last_name\" in kwargs:\n",
    "        return f\"Last Name={kwargs['last_name']}\"\n",
    "    else:\n",
    "        return \"No valid name was provied\"\n",
    "    \n",
    "names(first_name=\"John\",last_name=\"Doe\")"
   ]
  },
  {
   "cell_type": "markdown",
   "id": "4c26b042",
   "metadata": {},
   "source": [
    "__Q4. What are lambda functions in Python? How are they different from regular functions? Provide an\n",
    "example where a lambda function can be useful.__\n",
    "\n",
    "A. A lambda function is a single line function also called as anonymous function due to the fact that they dont have name like generally functions do. whenever there need a function to be passed or used in a code and if the logic is very small and one liner then instead of writing the function and passing the name of the function, The function itself is passed with the logic using keyword called lambda\n",
    "\n",
    "__syntax:__\n",
    "```\n",
    "lambda <variable>: logic(<variable>) \n",
    "\n",
    "```\n",
    "\n",
    "__Example:__"
   ]
  },
  {
   "cell_type": "code",
   "execution_count": 12,
   "id": "fa39c209",
   "metadata": {},
   "outputs": [
    {
     "name": "stdout",
     "output_type": "stream",
     "text": [
      "JOHN DOE\n"
     ]
    }
   ],
   "source": [
    "name=\"john doe\"\n",
    "print(\"\".join(map(lambda a: a.upper(),name)))"
   ]
  },
  {
   "cell_type": "markdown",
   "id": "9c3a41e1",
   "metadata": {},
   "source": [
    "Generally lambda functions are more usefull in higher order functions. \n",
    "\n",
    "__Example:__"
   ]
  },
  {
   "cell_type": "code",
   "execution_count": 13,
   "id": "9572cbcc",
   "metadata": {},
   "outputs": [
    {
     "data": {
      "text/plain": [
       "[0, 1, 2, 3, 4, 5, 6, 7, 8, 9]"
      ]
     },
     "execution_count": 13,
     "metadata": {},
     "output_type": "execute_result"
    }
   ],
   "source": [
    "nums = list(range(10))\n",
    "nums"
   ]
  },
  {
   "cell_type": "code",
   "execution_count": 14,
   "id": "d8e0af8c",
   "metadata": {},
   "outputs": [
    {
     "data": {
      "text/plain": [
       "[0, 1, 4, 9, 16, 25, 36, 49, 64, 81]"
      ]
     },
     "execution_count": 14,
     "metadata": {},
     "output_type": "execute_result"
    }
   ],
   "source": [
    "# print the score of each number\n",
    "list(map(lambda a: a*a,nums))"
   ]
  },
  {
   "cell_type": "code",
   "execution_count": 15,
   "id": "33850c27",
   "metadata": {},
   "outputs": [
    {
     "data": {
      "text/plain": [
       "[0, 2, 4, 6, 8]"
      ]
     },
     "execution_count": 15,
     "metadata": {},
     "output_type": "execute_result"
    }
   ],
   "source": [
    "# print the numbers that are only even\n",
    "list(filter(lambda a: a%2 == 0, nums))"
   ]
  },
  {
   "cell_type": "code",
   "execution_count": 16,
   "id": "b112a6a8",
   "metadata": {},
   "outputs": [
    {
     "data": {
      "text/plain": [
       "45"
      ]
     },
     "execution_count": 16,
     "metadata": {},
     "output_type": "execute_result"
    }
   ],
   "source": [
    "# import reduce\n",
    "from functools import reduce\n",
    "# print the sum of numbers in the list\n",
    "reduce(lambda x,y: x+y,nums)"
   ]
  },
  {
   "cell_type": "markdown",
   "id": "df79591c",
   "metadata": {},
   "source": [
    "__Q5. How does the concept of \"scope\" apply to functions in Python? Explain the difference between local\n",
    "scope and global scope.__\n",
    "\n",
    "there are two scopes. local and global. when the variable is declared out side the function and is accessible in all the function it is called global variable. and the variable which is declared in a scope like class, function, etc it is called local variable. we can also make the local variable as global by using keyword GLOBAL\n",
    "\n",
    "```\n",
    "def my_function():\n",
    "    local_var = 10\n",
    "    print(local_var)\n",
    "\n",
    "my_function()  \n",
    "\n",
    "#below line will produce error with the output as local variable is inside the my_function scope\n",
    "print(local_var) \n",
    "```"
   ]
  },
  {
   "cell_type": "markdown",
   "id": "c9ec2f4c",
   "metadata": {},
   "source": [
    "__Global Scope:__"
   ]
  },
  {
   "cell_type": "code",
   "execution_count": 17,
   "id": "fdcb6c18",
   "metadata": {},
   "outputs": [
    {
     "name": "stdout",
     "output_type": "stream",
     "text": [
      "20\n"
     ]
    }
   ],
   "source": [
    "global_var = 20\n",
    "\n",
    "def my_function():\n",
    "    # as the global_var is outside my_function we are able to access the global variable\n",
    "    print(global_var)\n",
    "\n",
    "my_function()"
   ]
  },
  {
   "cell_type": "markdown",
   "id": "62e28d09",
   "metadata": {},
   "source": [
    "__Global Keyword:__"
   ]
  },
  {
   "cell_type": "code",
   "execution_count": 18,
   "id": "4edcca73",
   "metadata": {},
   "outputs": [
    {
     "name": "stdout",
     "output_type": "stream",
     "text": [
      "20\n",
      "20\n"
     ]
    }
   ],
   "source": [
    "global_var = 20\n",
    "\n",
    "def my_function():\n",
    "    print(global_var)  #global_var within the function\n",
    "\n",
    "my_function()\n",
    "print(global_var)  # global_var outside the function "
   ]
  },
  {
   "cell_type": "markdown",
   "id": "ea96b6c0",
   "metadata": {},
   "source": [
    "__Q6. How can you use the \"return\" statement in a Python function to return multiple values?__\n",
    "\n",
    "A. We can return multiple values using return with the help of result seperated by comma, result stored in list, Object, dict, tuple, set etc. So the user can use destructuring, indexing, slicing etc to retrieve the variable"
   ]
  },
  {
   "cell_type": "code",
   "execution_count": 19,
   "id": "00b69365",
   "metadata": {},
   "outputs": [
    {
     "data": {
      "text/plain": [
       "('John', 'Doe')"
      ]
     },
     "execution_count": 19,
     "metadata": {},
     "output_type": "execute_result"
    }
   ],
   "source": [
    "# function to return multiple results seperated by comma.\n",
    "\n",
    "def names():\n",
    "    return \"John\", \"Doe\"\n",
    "\n",
    "# destructuing\n",
    "first_name,last_name = names()\n",
    "# print the first name and last name\n",
    "first_name,last_name"
   ]
  },
  {
   "cell_type": "code",
   "execution_count": 20,
   "id": "dd5fc761",
   "metadata": {},
   "outputs": [
    {
     "data": {
      "text/plain": [
       "('John', 'Doe')"
      ]
     },
     "execution_count": 20,
     "metadata": {},
     "output_type": "execute_result"
    }
   ],
   "source": [
    "# function to return multiple results using list\n",
    "\n",
    "def names():\n",
    "    return [\"John\", \"Doe\"]\n",
    "\n",
    "# store the list into names variable\n",
    "names = names()\n",
    "# access the first name and last name using indexing\n",
    "first_name = names[0]\n",
    "last_name = names[1]\n",
    "# print the first name and last name\n",
    "first_name,last_name"
   ]
  },
  {
   "cell_type": "code",
   "execution_count": 21,
   "id": "5a9e31a5",
   "metadata": {},
   "outputs": [
    {
     "data": {
      "text/plain": [
       "('John', 'Doe')"
      ]
     },
     "execution_count": 21,
     "metadata": {},
     "output_type": "execute_result"
    }
   ],
   "source": [
    "# function to return multiple results using dict\n",
    "\n",
    "def names():\n",
    "    return {\"first_name\":\"John\", \"last_name\":\"Doe\"}\n",
    "\n",
    "# store into names variable\n",
    "names = names()\n",
    "# access the first name and last name using indexing\n",
    "first_name = names[\"first_name\"]\n",
    "last_name = names[\"last_name\"]\n",
    "# print the first name and last name\n",
    "first_name,last_name"
   ]
  },
  {
   "cell_type": "code",
   "execution_count": 22,
   "id": "48b94f25",
   "metadata": {},
   "outputs": [
    {
     "data": {
      "text/plain": [
       "('John', 'Doe')"
      ]
     },
     "execution_count": 22,
     "metadata": {},
     "output_type": "execute_result"
    }
   ],
   "source": [
    "# function to return multiple results using set\n",
    "\n",
    "def names():\n",
    "    return {\"John\", \"Doe\"}\n",
    "\n",
    "# store the list into names variable\n",
    "names = list(names())\n",
    "# access the first name and last name using indexing\n",
    "first_name = names[0]\n",
    "last_name = names[1]\n",
    "# print the first name and last name\n",
    "first_name,last_name"
   ]
  },
  {
   "cell_type": "code",
   "execution_count": 23,
   "id": "3856f3de",
   "metadata": {},
   "outputs": [
    {
     "data": {
      "text/plain": [
       "('John', 'Doe')"
      ]
     },
     "execution_count": 23,
     "metadata": {},
     "output_type": "execute_result"
    }
   ],
   "source": [
    "# function to return multiple results using tuple\n",
    "\n",
    "def names():\n",
    "    return (\"John\", \"Doe\")\n",
    "\n",
    "# store the list into names variable\n",
    "names = names()\n",
    "# access the first name and last name using indexing\n",
    "first_name = names[0]\n",
    "last_name = names[1]\n",
    "# print the first name and last name\n",
    "first_name,last_name"
   ]
  },
  {
   "cell_type": "code",
   "execution_count": 24,
   "id": "176d0b2e",
   "metadata": {},
   "outputs": [
    {
     "data": {
      "text/plain": [
       "('John', 'Doe')"
      ]
     },
     "execution_count": 24,
     "metadata": {},
     "output_type": "execute_result"
    }
   ],
   "source": [
    "# function to return multiple results using object\n",
    "\n",
    "class Info:\n",
    "    first_name\n",
    "    last_name\n",
    "\n",
    "def names():\n",
    "    i = Info()\n",
    "    i.first_name = \"John\"\n",
    "    i.last_name =  \"Doe\"\n",
    "    return i\n",
    "\n",
    "# store into names variable\n",
    "names = names()\n",
    "\n",
    "# access the first name and last name using dot operator\n",
    "first_name = names.first_name\n",
    "last_name = names.last_name\n",
    "\n",
    "# # print the first name and last name\n",
    "first_name,last_name"
   ]
  },
  {
   "cell_type": "markdown",
   "id": "75cd2538",
   "metadata": {},
   "source": [
    "__Q7. What is the difference between the \"pass by value\" and \"pass by reference\" concepts when it\n",
    "comes to function arguments in Python?__"
   ]
  },
  {
   "cell_type": "markdown",
   "id": "8a33f548",
   "metadata": {},
   "source": [
    "In Python, when you pass a variable to a function, you're passing a reference to that variable's memory location. This means:\n",
    "\n",
    "If the variable is mutable (like a list), changes made to it inside the function will affect the original variable outside the function. It's like sharing the same toy; if one person changes it, everyone sees the change.\n",
    "\n",
    "__Example:__"
   ]
  },
  {
   "cell_type": "code",
   "execution_count": 25,
   "id": "16ab4c5c",
   "metadata": {},
   "outputs": [],
   "source": [
    "def modify_list(my_list):\n",
    "    my_list.append(4)  # Original list is changed too."
   ]
  },
  {
   "cell_type": "markdown",
   "id": "4d7e5b6f",
   "metadata": {},
   "source": [
    "If the variable is immutable (like a number or string), you can't change it directly inside the function. It's like having a new toy; changes inside the function won't affect the original.\n",
    "\n",
    "__Example:__"
   ]
  },
  {
   "cell_type": "code",
   "execution_count": 26,
   "id": "b10f0d72",
   "metadata": {},
   "outputs": [],
   "source": [
    "def modify_immutable(my_string):\n",
    "    my_string = \"new value\"  # Doesn't change the original string."
   ]
  },
  {
   "cell_type": "markdown",
   "id": "e5698f17",
   "metadata": {},
   "source": [
    "So, Python is \"pass by object reference.\" Mutable objects can be modified in-place, affecting the original, while immutable objects can't be changed directly inside the function."
   ]
  },
  {
   "cell_type": "markdown",
   "id": "a08a6773",
   "metadata": {},
   "source": [
    "__Q8 .Create a function that can intake integer or decimal value and do following operations:\n",
    "a. Logarithmic function (log x)\n",
    "b. Exponential function (exp(x))\n",
    "c. Power function with base 2 (2 x )\n",
    "d. Square root__"
   ]
  },
  {
   "cell_type": "code",
   "execution_count": 27,
   "id": "5d129d3e",
   "metadata": {},
   "outputs": [
    {
     "name": "stdout",
     "output_type": "stream",
     "text": [
      "Logarithm: 0.6931471805599453\n",
      "Exponential: 7.38905609893065\n",
      "Power (base 2): 4.0\n",
      "Square Root: 1.4142135623730951\n"
     ]
    }
   ],
   "source": [
    "import math\n",
    "\n",
    "def math_operations(x):\n",
    "    try:\n",
    "        x = float(x)  # Ensure x is treated as a float, even if it's an integer.\n",
    "        if x <= 0:\n",
    "            return \"Input must be a positive number.\"\n",
    "        \n",
    "        log_x = math.log(x)\n",
    "        exp_x = math.exp(x)\n",
    "        power_x = 2 ** x\n",
    "        sqrt_x = math.sqrt(x)\n",
    "        \n",
    "        return f\"Logarithm: {log_x}\\nExponential: {exp_x}\\nPower (base 2): {power_x}\\nSquare Root: {sqrt_x}\"\n",
    "    except ValueError:\n",
    "        return \"Invalid input. Please provide a numeric value.\"\n",
    "\n",
    "# Test the function\n",
    "value = 2 #input(\"Enter a positive integer or decimal: \")\n",
    "result = math_operations(value)\n",
    "print(result)"
   ]
  },
  {
   "cell_type": "markdown",
   "id": "eb08eae0",
   "metadata": {},
   "source": [
    "__9. Create a function that takes a full name as an argument and returns first name and last name.__"
   ]
  },
  {
   "cell_type": "code",
   "execution_count": 28,
   "id": "ad0e2b25",
   "metadata": {},
   "outputs": [
    {
     "name": "stdout",
     "output_type": "stream",
     "text": [
      "First name: John\n",
      "Last name: Doe\n"
     ]
    }
   ],
   "source": [
    "# example that return frist_name and last name\n",
    "def full_name(name):\n",
    "    parts = name.split(\" \")\n",
    "    if len(parts) >= 2:\n",
    "        first_name = parts[0]\n",
    "        last_name = parts[-1]\n",
    "        return first_name, last_name\n",
    "    else:\n",
    "        return None, None\n",
    "        \n",
    "\n",
    "first_name, last_name = full_name(\"John Doe\")\n",
    "if first_name and last_name:\n",
    "    print(f\"First name: {first_name}\")\n",
    "    print(f\"Last name: {last_name}\")\n",
    "else:\n",
    "    print(\"Invalid name format.\")"
   ]
  }
 ],
 "metadata": {
  "kernelspec": {
   "display_name": "Python 3 (ipykernel)",
   "language": "python",
   "name": "python3"
  },
  "language_info": {
   "codemirror_mode": {
    "name": "ipython",
    "version": 3
   },
   "file_extension": ".py",
   "mimetype": "text/x-python",
   "name": "python",
   "nbconvert_exporter": "python",
   "pygments_lexer": "ipython3",
   "version": "3.11.4"
  }
 },
 "nbformat": 4,
 "nbformat_minor": 5
}
