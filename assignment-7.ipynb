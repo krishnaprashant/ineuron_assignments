{
  "nbformat": 4,
  "nbformat_minor": 0,
  "metadata": {
    "colab": {
      "provenance": []
    },
    "kernelspec": {
      "name": "python3",
      "display_name": "Python 3"
    },
    "language_info": {
      "name": "python"
    }
  },
  "cells": [
    {
      "cell_type": "markdown",
      "source": [
        "Q.1. Create two int type variables, apply addition, subtraction, division and multiplications and store the results in variables. Then print the data in the following format by calling the\n",
        "```\n",
        "variables:\n",
        "\n",
        "First variable is __ & second variable is __.\n",
        "\n",
        "Addition: __ + __ = __\n",
        "\n",
        "Subtraction: __ - __ = __\n",
        "\n",
        "Multiplication: __ * __ = __\n",
        "\n",
        "Division: __ / __ = __\n",
        "```"
      ],
      "metadata": {
        "id": "Y0HdNu36pzlZ"
      }
    },
    {
      "cell_type": "code",
      "execution_count": 1,
      "metadata": {
        "colab": {
          "base_uri": "https://localhost:8080/"
        },
        "id": "EuJpk4Ghnw93",
        "outputId": "3ade426f-008f-452c-fc3d-ced09c4ad8c7"
      },
      "outputs": [
        {
          "output_type": "stream",
          "name": "stdout",
          "text": [
            "Addition: 10 + 11 = 21\n",
            "Subtraction: 10 - 11 = -1\n",
            "Multiplication: 10 * 11 = 110\n",
            "Division: 10 / 11 = 0.9090909090909091\n"
          ]
        }
      ],
      "source": [
        "def addition(a,b):\n",
        "\n",
        "    return a+b\n",
        "\n",
        "def subtraction(a,b):\n",
        "\n",
        "    return a-b\n",
        "\n",
        "def division(a,b):\n",
        "\n",
        "    return a/b\n",
        "\n",
        "def multiplication(a,b):\n",
        "\n",
        "    return a*b\n",
        "\n",
        "\n",
        "\n",
        "a = 10\n",
        "\n",
        "b = 11\n",
        "\n",
        "\n",
        "\n",
        "print(f\"Addition: {a} + {b} = {addition(a,b)}\")\n",
        "\n",
        "print(f\"Subtraction: {a} - {b} = {subtraction(a,b)}\")\n",
        "\n",
        "print(f\"Multiplication: {a} * {b} = {multiplication(a,b)}\")\n",
        "\n",
        "print(f\"Division: {a} / {b} = {division(a,b)}\")"
      ]
    },
    {
      "cell_type": "markdown",
      "source": [
        "Q.2. What is the difference between the following operators:\n",
        "\n",
        "(i) ‘/’ & ‘//’\n",
        "\n",
        "(ii) ‘**’ & ‘^’"
      ],
      "metadata": {
        "id": "w4CpUDTiwSgr"
      }
    },
    {
      "cell_type": "markdown",
      "source": [
        "A. '/' is called slash and used for division whereas '//' is called as floor division. using slash we divide the integer and get the result in either float or integer format. But using '//' if we divide the integer we get the result in integer rounded to the nearest integer value\n",
        "\n",
        "`'**'` is used to find the exponent of an integer. `'^'` means bitwise or in C/python. Hence python chose `'**'` for exponent."
      ],
      "metadata": {
        "id": "j7ip9zhkwWPj"
      }
    },
    {
      "cell_type": "markdown",
      "source": [
        "Q.3. List the logical operators."
      ],
      "metadata": {
        "id": "BJL46p8cwvlA"
      }
    },
    {
      "cell_type": "markdown",
      "source": [
        "A. And,Or, Not are the logical operators"
      ],
      "metadata": {
        "id": "mmB1JOtlw3Ng"
      }
    },
    {
      "cell_type": "markdown",
      "source": [
        "Q.4. Explain right shift operator and left shift operator with examples."
      ],
      "metadata": {
        "id": "TCPH2SClw-ap"
      }
    },
    {
      "cell_type": "markdown",
      "source": [
        "A. The right shift operator (>>) in Python shifts the bits of a binary number to the right, effectively dividing it by 2 raised to the power of the shift count. It fills the vacant positions on the left with the sign bit. For positive numbers, it's 0, and for negative numbers, it's 1."
      ],
      "metadata": {
        "id": "oln2ijlTxBMp"
      }
    },
    {
      "cell_type": "code",
      "source": [
        "x = 12  # Binary: 1100\n",
        "\n",
        "y = x >> 2  # Shift right by 2 positions\n",
        "\n",
        "# Binary after shifting: 0011\n",
        "\n",
        "# Decimal: 3\n",
        "\n",
        "print(y)"
      ],
      "metadata": {
        "colab": {
          "base_uri": "https://localhost:8080/"
        },
        "id": "AZD8RyGQwKKC",
        "outputId": "84997f61-666e-48bc-cf7d-2f1939735d31"
      },
      "execution_count": 2,
      "outputs": [
        {
          "output_type": "stream",
          "name": "stdout",
          "text": [
            "3\n"
          ]
        }
      ]
    },
    {
      "cell_type": "markdown",
      "source": [
        "The left shift operator (<<) in Python shifts the bits of a binary number to the left, effectively multiplying it by 2 raised to the power of the shift count. It fills the vacant positions on the right with zeros."
      ],
      "metadata": {
        "id": "QNVN2KZdxNHJ"
      }
    },
    {
      "cell_type": "code",
      "source": [
        "x = 3  # Binary: 11\n",
        "\n",
        "y = x << 2\n",
        "\n",
        "# Shift left by 2 positions\n",
        "# Binary after shifting: 1100\n",
        "# Decimal: 12\n",
        "\n",
        "print(y)"
      ],
      "metadata": {
        "colab": {
          "base_uri": "https://localhost:8080/"
        },
        "id": "Pi2pT9lHxOqf",
        "outputId": "88b972ba-1c2a-4eec-b3eb-5bc74e83eb08"
      },
      "execution_count": 4,
      "outputs": [
        {
          "output_type": "stream",
          "name": "stdout",
          "text": [
            "12\n"
          ]
        }
      ]
    },
    {
      "cell_type": "markdown",
      "source": [
        "Q.5. Create a list containing int type data of length 15.\n",
        "\n",
        "\n",
        "Then write a code to check if 10 is present in the list or not"
      ],
      "metadata": {
        "id": "W_F8QmYrxVXB"
      }
    },
    {
      "cell_type": "code",
      "source": [
        "numbers = [1,2,3,4,5,6,7,8,9,10,11,12,13,14,15]\n",
        "\n",
        "\n",
        "\n",
        "def checkIfPresent(n:int,arr:list) -> bool:\n",
        "\n",
        "    return n in arr\n",
        "\n",
        "\n",
        "\n",
        "print(checkIfPresent(10,numbers))"
      ],
      "metadata": {
        "colab": {
          "base_uri": "https://localhost:8080/"
        },
        "id": "7KQ93-MI0lqd",
        "outputId": "94c715e9-ea04-4cd5-d93b-24b53cb9f913"
      },
      "execution_count": 7,
      "outputs": [
        {
          "output_type": "stream",
          "name": "stdout",
          "text": [
            "True\n"
          ]
        }
      ]
    },
    {
      "cell_type": "code",
      "source": [],
      "metadata": {
        "id": "JcvXNUI50puz"
      },
      "execution_count": null,
      "outputs": []
    }
  ]
}