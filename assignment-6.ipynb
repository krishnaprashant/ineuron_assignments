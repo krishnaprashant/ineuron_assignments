{
  "nbformat": 4,
  "nbformat_minor": 0,
  "metadata": {
    "colab": {
      "provenance": []
    },
    "kernelspec": {
      "name": "python3",
      "display_name": "Python 3"
    },
    "language_info": {
      "name": "python"
    }
  },
  "cells": [
    {
      "cell_type": "code",
      "source": [
        "def question_1():\n",
        "  \"\"\"\n",
        "  Q.1. What are keywords in python? Using the keyword library, print all the python keywords.\n",
        "  A. keywords are the reserved words by compiler. you can use keywords as variables, function name, class name or any defination for that matter\n",
        "  \"\"\"\n",
        "  import keyword\n",
        "\n",
        "  # Get the list of Python keywords\n",
        "  keywords = keyword.kwlist\n",
        "\n",
        "  # Print the list of keywords\n",
        "  for kw in keywords:\n",
        "      print(kw)\n",
        "\n",
        "question_1()"
      ],
      "metadata": {
        "id": "gyGDEgg6-b7P",
        "colab": {
          "base_uri": "https://localhost:8080/"
        },
        "outputId": "6a8e18a8-c290-4259-a41c-2822fc0acc2f"
      },
      "execution_count": 2,
      "outputs": [
        {
          "output_type": "stream",
          "name": "stdout",
          "text": [
            "False\n",
            "None\n",
            "True\n",
            "and\n",
            "as\n",
            "assert\n",
            "async\n",
            "await\n",
            "break\n",
            "class\n",
            "continue\n",
            "def\n",
            "del\n",
            "elif\n",
            "else\n",
            "except\n",
            "finally\n",
            "for\n",
            "from\n",
            "global\n",
            "if\n",
            "import\n",
            "in\n",
            "is\n",
            "lambda\n",
            "nonlocal\n",
            "not\n",
            "or\n",
            "pass\n",
            "raise\n",
            "return\n",
            "try\n",
            "while\n",
            "with\n",
            "yield\n"
          ]
        }
      ]
    },
    {
      "cell_type": "code",
      "source": [
        "def question_2():\n",
        "  q = \"\"\"\n",
        "  Q.2. What are the rules to create variables in python?\n",
        "  \"\"\"\n",
        "  a = \"\"\"\n",
        "  A. Rules for creating variables in python.\n",
        "  1. Only letters, numbers and underscores are allowd\n",
        "  2. Variables are case sensitive\n",
        "  3. Keywords must be avoided\n",
        "  4. Must not start with anything but letter or underscore.\n",
        "  5. spaces between the variables are not allow\n",
        "  \"\"\"\n",
        "  print(q+\"\\n\"+a)\n",
        "\n",
        "question_2()"
      ],
      "metadata": {
        "colab": {
          "base_uri": "https://localhost:8080/"
        },
        "id": "8fKxSbVZ_Atk",
        "outputId": "e8d0a019-744c-4a4c-d2e1-547d724a67a6"
      },
      "execution_count": 3,
      "outputs": [
        {
          "output_type": "stream",
          "name": "stdout",
          "text": [
            "\n",
            "  Q.2. What are the rules to create variables in python?\n",
            "  \n",
            "\n",
            "  A. Rules for creating variables in python.\n",
            "  1. Only letters, numbers and underscores are allowd\n",
            "  2. Variables are case sensitive\n",
            "  3. Keywords must be avoided\n",
            "  4. Must not start with anything but letter or underscore.\n",
            "  5. spaces between the variables are not allow\n",
            "  \n"
          ]
        }
      ]
    },
    {
      "cell_type": "code",
      "source": [
        "def question_3():\n",
        "  q = \"\"\"\n",
        "  Q.3. What are the standards and conventions followed for the nomenclature of variables in python to improve code readability and maintainability?\n",
        "  \"\"\"\n",
        "  a = \"\"\"A. Use lowercase letters with underscores (snake_case).\n",
        "  Be descriptive and meaningful.\n",
        "  Avoid single-character names except for common loop counters (e.g., i, j).\n",
        "  Use uppercase letters with underscores for constants (e.g., MAX_VALUE).\n",
        "  Be consistent in naming throughout your codebase.\n",
        "  Avoid using Python keywords as variable names.\n",
        "  Choose appropriate prefixes for variable names to indicate their type or purpose (e.g., str_name, list_numbers).\n",
        "  These conventions enhance code clarity and maintainability.\n",
        "  \"\"\"\n",
        "  print(q+\"\\n\"+a)\n",
        "\n",
        "question_3()"
      ],
      "metadata": {
        "id": "bdnUw8bZ_bKB",
        "colab": {
          "base_uri": "https://localhost:8080/"
        },
        "outputId": "1dc95c81-7de2-48b3-fdb8-1df901f265ed"
      },
      "execution_count": 4,
      "outputs": [
        {
          "output_type": "stream",
          "name": "stdout",
          "text": [
            "\n",
            "  Q.3. What are the standards and conventions followed for the nomenclature of variables in python to improve code readability and maintainability?\n",
            "  \n",
            "A. Use lowercase letters with underscores (snake_case).\n",
            "  Be descriptive and meaningful.\n",
            "  Avoid single-character names except for common loop counters (e.g., i, j).\n",
            "  Use uppercase letters with underscores for constants (e.g., MAX_VALUE).\n",
            "  Be consistent in naming throughout your codebase.\n",
            "  Avoid using Python keywords as variable names.\n",
            "  Choose appropriate prefixes for variable names to indicate their type or purpose (e.g., str_name, list_numbers).\n",
            "  These conventions enhance code clarity and maintainability.\n",
            "  \n"
          ]
        }
      ]
    },
    {
      "cell_type": "code",
      "source": [
        "def question_4():\n",
        "  q =\"\"\"\n",
        "  Q.4. What will happen if a keyword is used as a variable name?\n",
        "  \"\"\"\n",
        "  a = \"\"\"\n",
        "  A. SytaxError: invalid syntax\n",
        "  \"\"\"\n",
        "  print(q+\"\\n\"+a)\n",
        "\n",
        "question_4()"
      ],
      "metadata": {
        "id": "ui3yx5H__cyn",
        "colab": {
          "base_uri": "https://localhost:8080/"
        },
        "outputId": "e3071063-ba8b-4b22-957d-49efa8e4c9fc"
      },
      "execution_count": 5,
      "outputs": [
        {
          "output_type": "stream",
          "name": "stdout",
          "text": [
            "\n",
            "  Q.4. What will happen if a keyword is used as a variable name?\n",
            "  \n",
            "\n",
            "  A. SytaxError: invalid syntax\n",
            "  \n"
          ]
        }
      ]
    },
    {
      "cell_type": "code",
      "source": [
        "def question_5():\n",
        "  q = \"\"\"\n",
        "  Q.5. For what purpose def keyword is used?\n",
        "  \"\"\"\n",
        "  a = \"\"\"\n",
        "  A. def keyword is used to define a function.\n",
        "   it is called user defined function. Basically function is an encapsulation of code.\n",
        "   the encapsulated code is a block of can be used by calling the function name and parameters if required.\n",
        "   parameters are also called as arguments. basically while creating function we can use values by placing variables\n",
        "   in place of arguments and while calling the function we have to pass the argument in same order or key=value format.\n",
        "  \"\"\"\n",
        "  print(q+\"\\n\"+a)\n",
        "\n",
        "  question_5()"
      ],
      "metadata": {
        "id": "VqykpNIb_yIj"
      },
      "execution_count": 6,
      "outputs": []
    },
    {
      "cell_type": "code",
      "source": [
        "def question_6():\n",
        "  q = \"Q.6. What is the operation of this special character ‘\\’?\"\n",
        "  a = \"\"\" `\\` is used to escape charecter inside the string. escape mean allow the next special charecter to perform below operations\n",
        "  \\\\n - print new line\n",
        "  \\\\t - print tab space\n",
        "  \\\\\\ - print slash\n",
        "  \\\\\" - use special charecter if it is already enclosed inside double quotes\n",
        "  \\\\' - use special charecter if it is already enclosed inside double quotes\n",
        "  \\\\xh - print hexa decimal value\n",
        "  \"\"\"\n",
        "  print(q+\"\\n\"+a)\n",
        "\n",
        "\n",
        "question_6()"
      ],
      "metadata": {
        "id": "TeMK_OA__8Tq",
        "colab": {
          "base_uri": "https://localhost:8080/"
        },
        "outputId": "cb708c5b-808e-4830-d6a0-c02217d16810"
      },
      "execution_count": 7,
      "outputs": [
        {
          "output_type": "stream",
          "name": "stdout",
          "text": [
            "Q.6. What is the operation of this special character ‘\\’?\n",
            " `\\` is used to escape charecter inside the string. escape mean allow the next special charecter to perform below operations\n",
            "  \\n - print new line\n",
            "  \\t - print tab space\n",
            "  \\\\ - print slash\n",
            "  \\\" - use special charecter if it is already enclosed inside double quotes\n",
            "  \\' - use special charecter if it is already enclosed inside double quotes\n",
            "  \\xh - print hexa decimal value\n",
            "  \n"
          ]
        }
      ]
    },
    {
      "cell_type": "code",
      "source": [
        "def question_7():\n",
        "  q = \"\"\"\n",
        "Q.7. Give an example of the following conditions:\n",
        "(i) Homogeneous list\n",
        "(ii) Heterogeneous set\n",
        "(iii) Homogeneous tuple\n",
        "  \"\"\"\n",
        "  a = \"\"\"\n",
        "  A. Homogeneous list contain elements in list of same datatypes\n",
        "     eg. [1,2,3,5] all elements are of int type\n",
        "     Hetrogeneous set contains elements in set of different datatypes\n",
        "     eg. {1,\"abcd\",1.5} all elements are of different type int,str,\n",
        "     and float respectively\n",
        "     Homogeneous tupple contains element in tuple of same datatypes\n",
        "     eg. (\"abc\",\"def\",\"ghi\") all elements are of str\n",
        "  \"\"\"\n",
        "  print(q+\"\\n\"+a)\n",
        "\n",
        "question_7()"
      ],
      "metadata": {
        "id": "6iIr_5nIACDf",
        "colab": {
          "base_uri": "https://localhost:8080/"
        },
        "outputId": "93afb95c-d49b-4eb6-8980-86fb2f28ed05"
      },
      "execution_count": 8,
      "outputs": [
        {
          "output_type": "stream",
          "name": "stdout",
          "text": [
            "\n",
            "Q.7. Give an example of the following conditions:\n",
            "(i) Homogeneous list\n",
            "(ii) Heterogeneous set\n",
            "(iii) Homogeneous tuple\n",
            "  \n",
            "\n",
            "  A. Homogeneous list contain elements in list of same datatypes\n",
            "     eg. [1,2,3,5] all elements are of int type\n",
            "     Hetrogeneous set contains elements in set of different datatypes\n",
            "     eg. {1,\"abcd\",1.5} all elements are of different type int,str,\n",
            "     and float respectively\n",
            "     Homogeneous tupple contains element in tuple of same datatypes\n",
            "     eg. (\"abc\",\"def\",\"ghi\") all elements are of str\n",
            "  \n"
          ]
        }
      ]
    },
    {
      "cell_type": "code",
      "source": [
        "def question_8():\n",
        "  q = \"Explain the mutable and immutable data types with proper explanation & examples.\"\n",
        "  a = \"\"\"\n",
        "  Immutable means the value once defined cannot be changed. In tuples and strings we cannot use indexing and modify the values where as in list, dictionary and sets we can modify the value\n",
        "  \"\"\"\n",
        "  # Example of list\n",
        "  lst = [1,2,3]\n",
        "  lst[2]=4\n",
        "  # Example of dict\n",
        "  details = {\"name\":\"prashant\"}\n",
        "  details[\"phone\"] = \"6303049155\"\n",
        "  # Example of set\n",
        "  colors = {\"red\",\"blue\",\"green\"}\n",
        "  colors.add(1)\n",
        "  print(q+\"\\n\"+a)\n",
        "  print(colors,details,lst)\n",
        "\n",
        "\n",
        "question_8()"
      ],
      "metadata": {
        "colab": {
          "base_uri": "https://localhost:8080/"
        },
        "id": "57hrYk9qAJO6",
        "outputId": "8b075ae8-42c3-4fab-df90-243a57fb8ce3"
      },
      "execution_count": 9,
      "outputs": [
        {
          "output_type": "stream",
          "name": "stdout",
          "text": [
            "Explain the mutable and immutable data types with proper explanation & examples.\n",
            "\n",
            "  Immutable means the value once defined cannot be changed. In tuples and strings we cannot use indexing and modify the values where as in list, dictionary and sets we can modify the value\n",
            "  \n",
            "{'blue', 1, 'red', 'green'} {'name': 'prashant', 'phone': '6303049155'} [1, 2, 4]\n"
          ]
        }
      ]
    },
    {
      "cell_type": "code",
      "source": [
        "def question_9():\n",
        "  \"\"\"\n",
        "  Q.9. Write a code to create the given structure using only for loop.\n",
        "      *\n",
        "      ***\n",
        "    *****\n",
        "    *******\n",
        "  *********\n",
        "  \"\"\"\n",
        "  start,end,step,total = 1, 10, 2, 9\n",
        "  for i in range(start,end,step):\n",
        "      print(f'{\" \" * int((total-i)/2)}{\"*\" * i}')\n",
        "\n",
        "\n",
        "question_9()"
      ],
      "metadata": {
        "id": "zJ-ft3b805oD",
        "colab": {
          "base_uri": "https://localhost:8080/"
        },
        "outputId": "f590e322-0d64-4e9c-97fd-9edfb301ca97"
      },
      "execution_count": 11,
      "outputs": [
        {
          "output_type": "stream",
          "name": "stdout",
          "text": [
            "    *\n",
            "   ***\n",
            "  *****\n",
            " *******\n",
            "*********\n"
          ]
        }
      ]
    },
    {
      "cell_type": "code",
      "source": [
        "def question_10():\n",
        "  \"\"\"\n",
        "  Q.10. Write a code to create the given structure using while loop.\n",
        "  |||||||||\n",
        "    |||||||\n",
        "    |||||\n",
        "      |||\n",
        "      |\n",
        "  \"\"\"\n",
        "\n",
        "  total = 9\n",
        "  i = 9\n",
        "  while i > 0:\n",
        "      lines =  f'{\" \" * int((total-i)/2)}{\"|\" * i}'\n",
        "      print(lines)\n",
        "      i = i - 2\n",
        "question_10()"
      ],
      "metadata": {
        "id": "t5BWC0FE7nxA",
        "colab": {
          "base_uri": "https://localhost:8080/"
        },
        "outputId": "dd28d881-7c4c-42b0-98b2-ccb89023ebd8"
      },
      "execution_count": 10,
      "outputs": [
        {
          "output_type": "stream",
          "name": "stdout",
          "text": [
            "|||||||||\n",
            " |||||||\n",
            "  |||||\n",
            "   |||\n",
            "    |\n"
          ]
        }
      ]
    },
    {
      "cell_type": "code",
      "source": [],
      "metadata": {
        "id": "73dqTGtBEmYt"
      },
      "execution_count": 11,
      "outputs": []
    },
    {
      "cell_type": "code",
      "source": [],
      "metadata": {
        "id": "2ZxJorLdEt69"
      },
      "execution_count": null,
      "outputs": []
    }
  ]
}